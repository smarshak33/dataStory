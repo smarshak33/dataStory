{
 "cells": [
  {
   "cell_type": "code",
   "execution_count": 567,
   "id": "cbfadc31-8b21-467a-852f-4a13de0cff58",
   "metadata": {},
   "outputs": [],
   "source": [
    "import pandas as pd"
   ]
  },
  {
   "cell_type": "code",
   "execution_count": 568,
   "id": "da7bcb11-5b06-43d1-81f5-e3516c47500f",
   "metadata": {},
   "outputs": [
    {
     "data": {
      "text/html": [
       "<div>\n",
       "<style scoped>\n",
       "    .dataframe tbody tr th:only-of-type {\n",
       "        vertical-align: middle;\n",
       "    }\n",
       "\n",
       "    .dataframe tbody tr th {\n",
       "        vertical-align: top;\n",
       "    }\n",
       "\n",
       "    .dataframe thead th {\n",
       "        text-align: right;\n",
       "    }\n",
       "</style>\n",
       "<table border=\"1\" class=\"dataframe\">\n",
       "  <thead>\n",
       "    <tr style=\"text-align: right;\">\n",
       "      <th></th>\n",
       "      <th>Period</th>\n",
       "      <th>Value</th>\n",
       "    </tr>\n",
       "  </thead>\n",
       "  <tbody>\n",
       "    <tr>\n",
       "      <th>0</th>\n",
       "      <td>Jan-2016</td>\n",
       "      <td>17453</td>\n",
       "    </tr>\n",
       "    <tr>\n",
       "      <th>1</th>\n",
       "      <td>Feb-2016</td>\n",
       "      <td>16828</td>\n",
       "    </tr>\n",
       "    <tr>\n",
       "      <th>2</th>\n",
       "      <td>Mar-2016</td>\n",
       "      <td>16547</td>\n",
       "    </tr>\n",
       "    <tr>\n",
       "      <th>3</th>\n",
       "      <td>Apr-2016</td>\n",
       "      <td>17066</td>\n",
       "    </tr>\n",
       "    <tr>\n",
       "      <th>4</th>\n",
       "      <td>May-2016</td>\n",
       "      <td>18114</td>\n",
       "    </tr>\n",
       "    <tr>\n",
       "      <th>...</th>\n",
       "      <td>...</td>\n",
       "      <td>...</td>\n",
       "    </tr>\n",
       "    <tr>\n",
       "      <th>107</th>\n",
       "      <td>Dec-2024</td>\n",
       "      <td>25669</td>\n",
       "    </tr>\n",
       "    <tr>\n",
       "      <th>108</th>\n",
       "      <td>Jan-2025</td>\n",
       "      <td>21497</td>\n",
       "    </tr>\n",
       "    <tr>\n",
       "      <th>109</th>\n",
       "      <td>Feb-2025</td>\n",
       "      <td>23729</td>\n",
       "    </tr>\n",
       "    <tr>\n",
       "      <th>110</th>\n",
       "      <td>Mar-2025</td>\n",
       "      <td>24716</td>\n",
       "    </tr>\n",
       "    <tr>\n",
       "      <th>111</th>\n",
       "      <td>Apr-2025</td>\n",
       "      <td>24699</td>\n",
       "    </tr>\n",
       "  </tbody>\n",
       "</table>\n",
       "<p>112 rows × 2 columns</p>\n",
       "</div>"
      ],
      "text/plain": [
       "       Period  Value\n",
       "0    Jan-2016  17453\n",
       "1    Feb-2016  16828\n",
       "2    Mar-2016  16547\n",
       "3    Apr-2016  17066\n",
       "4    May-2016  18114\n",
       "..        ...    ...\n",
       "107  Dec-2024  25669\n",
       "108  Jan-2025  21497\n",
       "109  Feb-2025  23729\n",
       "110  Mar-2025  24716\n",
       "111  Apr-2025  24699\n",
       "\n",
       "[112 rows x 2 columns]"
      ]
     },
     "execution_count": 568,
     "metadata": {},
     "output_type": "execute_result"
    }
   ],
   "source": [
    "df= pd.read_excel(\"data-raw/nyc.xlsx\")\n",
    "df"
   ]
  },
  {
   "cell_type": "code",
   "execution_count": 569,
   "id": "6e67c19b-ab00-4994-9f76-8bc89fd801a1",
   "metadata": {},
   "outputs": [],
   "source": [
    "## reformatting the dataframe\n",
    "pd.options.display.float_format = '{:,.0f}'.format"
   ]
  },
  {
   "cell_type": "code",
   "execution_count": 570,
   "id": "0846f8ad-426d-4f19-a4aa-cd4d4fb84e86",
   "metadata": {},
   "outputs": [
    {
     "name": "stdout",
     "output_type": "stream",
     "text": [
      "<class 'pandas.core.frame.DataFrame'>\n",
      "RangeIndex: 112 entries, 0 to 111\n",
      "Data columns (total 2 columns):\n",
      " #   Column  Non-Null Count  Dtype \n",
      "---  ------  --------------  ----- \n",
      " 0   Period  112 non-null    object\n",
      " 1   Value   112 non-null    int64 \n",
      "dtypes: int64(1), object(1)\n",
      "memory usage: 1.9+ KB\n"
     ]
    }
   ],
   "source": [
    "## understand data better\n",
    "df.info()"
   ]
  },
  {
   "cell_type": "code",
   "execution_count": 571,
   "id": "472d390b-3e35-4ee2-bfa0-e5f5c2ea703c",
   "metadata": {},
   "outputs": [
    {
     "data": {
      "text/html": [
       "<div>\n",
       "<style scoped>\n",
       "    .dataframe tbody tr th:only-of-type {\n",
       "        vertical-align: middle;\n",
       "    }\n",
       "\n",
       "    .dataframe tbody tr th {\n",
       "        vertical-align: top;\n",
       "    }\n",
       "\n",
       "    .dataframe thead th {\n",
       "        text-align: right;\n",
       "    }\n",
       "</style>\n",
       "<table border=\"1\" class=\"dataframe\">\n",
       "  <thead>\n",
       "    <tr style=\"text-align: right;\">\n",
       "      <th></th>\n",
       "      <th>Value</th>\n",
       "    </tr>\n",
       "  </thead>\n",
       "  <tbody>\n",
       "    <tr>\n",
       "      <th>count</th>\n",
       "      <td>112</td>\n",
       "    </tr>\n",
       "    <tr>\n",
       "      <th>mean</th>\n",
       "      <td>21,792</td>\n",
       "    </tr>\n",
       "    <tr>\n",
       "      <th>std</th>\n",
       "      <td>3,898</td>\n",
       "    </tr>\n",
       "    <tr>\n",
       "      <th>min</th>\n",
       "      <td>12,122</td>\n",
       "    </tr>\n",
       "    <tr>\n",
       "      <th>25%</th>\n",
       "      <td>18,634</td>\n",
       "    </tr>\n",
       "    <tr>\n",
       "      <th>50%</th>\n",
       "      <td>22,447</td>\n",
       "    </tr>\n",
       "    <tr>\n",
       "      <th>75%</th>\n",
       "      <td>25,106</td>\n",
       "    </tr>\n",
       "    <tr>\n",
       "      <th>max</th>\n",
       "      <td>29,776</td>\n",
       "    </tr>\n",
       "  </tbody>\n",
       "</table>\n",
       "</div>"
      ],
      "text/plain": [
       "       Value\n",
       "count    112\n",
       "mean  21,792\n",
       "std    3,898\n",
       "min   12,122\n",
       "25%   18,634\n",
       "50%   22,447\n",
       "75%   25,106\n",
       "max   29,776"
      ]
     },
     "execution_count": 571,
     "metadata": {},
     "output_type": "execute_result"
    }
   ],
   "source": [
    "## summary of dataset and description of distribution\n",
    "df.describe()"
   ]
  },
  {
   "cell_type": "markdown",
   "id": "da907549-7ca0-4422-af9b-e9d518bea5bc",
   "metadata": {},
   "source": [
    "## CLEANING DATA"
   ]
  },
  {
   "cell_type": "code",
   "execution_count": 573,
   "id": "d56cf9d5-b648-415b-be0d-408adb25473d",
   "metadata": {},
   "outputs": [
    {
     "data": {
      "text/html": [
       "<div>\n",
       "<style scoped>\n",
       "    .dataframe tbody tr th:only-of-type {\n",
       "        vertical-align: middle;\n",
       "    }\n",
       "\n",
       "    .dataframe tbody tr th {\n",
       "        vertical-align: top;\n",
       "    }\n",
       "\n",
       "    .dataframe thead th {\n",
       "        text-align: right;\n",
       "    }\n",
       "</style>\n",
       "<table border=\"1\" class=\"dataframe\">\n",
       "  <thead>\n",
       "    <tr style=\"text-align: right;\">\n",
       "      <th></th>\n",
       "      <th>Period</th>\n",
       "      <th>Value</th>\n",
       "    </tr>\n",
       "  </thead>\n",
       "  <tbody>\n",
       "    <tr>\n",
       "      <th>1</th>\n",
       "      <td>Jan-2016</td>\n",
       "      <td>17453</td>\n",
       "    </tr>\n",
       "    <tr>\n",
       "      <th>2</th>\n",
       "      <td>Feb-2016</td>\n",
       "      <td>16828</td>\n",
       "    </tr>\n",
       "    <tr>\n",
       "      <th>3</th>\n",
       "      <td>Mar-2016</td>\n",
       "      <td>16547</td>\n",
       "    </tr>\n",
       "    <tr>\n",
       "      <th>4</th>\n",
       "      <td>Apr-2016</td>\n",
       "      <td>17066</td>\n",
       "    </tr>\n",
       "    <tr>\n",
       "      <th>5</th>\n",
       "      <td>May-2016</td>\n",
       "      <td>18114</td>\n",
       "    </tr>\n",
       "    <tr>\n",
       "      <th>...</th>\n",
       "      <td>...</td>\n",
       "      <td>...</td>\n",
       "    </tr>\n",
       "    <tr>\n",
       "      <th>108</th>\n",
       "      <td>Dec-2024</td>\n",
       "      <td>25669</td>\n",
       "    </tr>\n",
       "    <tr>\n",
       "      <th>109</th>\n",
       "      <td>Jan-2025</td>\n",
       "      <td>21497</td>\n",
       "    </tr>\n",
       "    <tr>\n",
       "      <th>110</th>\n",
       "      <td>Feb-2025</td>\n",
       "      <td>23729</td>\n",
       "    </tr>\n",
       "    <tr>\n",
       "      <th>111</th>\n",
       "      <td>Mar-2025</td>\n",
       "      <td>24716</td>\n",
       "    </tr>\n",
       "    <tr>\n",
       "      <th>112</th>\n",
       "      <td>Apr-2025</td>\n",
       "      <td>24699</td>\n",
       "    </tr>\n",
       "  </tbody>\n",
       "</table>\n",
       "<p>112 rows × 2 columns</p>\n",
       "</div>"
      ],
      "text/plain": [
       "       Period  Value\n",
       "1    Jan-2016  17453\n",
       "2    Feb-2016  16828\n",
       "3    Mar-2016  16547\n",
       "4    Apr-2016  17066\n",
       "5    May-2016  18114\n",
       "..        ...    ...\n",
       "108  Dec-2024  25669\n",
       "109  Jan-2025  21497\n",
       "110  Feb-2025  23729\n",
       "111  Mar-2025  24716\n",
       "112  Apr-2025  24699\n",
       "\n",
       "[112 rows x 2 columns]"
      ]
     },
     "execution_count": 573,
     "metadata": {},
     "output_type": "execute_result"
    }
   ],
   "source": [
    "## one-based indexing so the data starts at 1, not 0. I used Anaconda for this because I couldn't figure out how to do it in the notes.\n",
    "business_applications = df.reset_index(drop=True).rename(index=lambda x: x + 1)\n",
    "business_applications\n",
    "\n"
   ]
  },
  {
   "cell_type": "code",
   "execution_count": 574,
   "id": "8291d643-a675-476c-b1c7-6e1fd8f38d71",
   "metadata": {},
   "outputs": [],
   "source": [
    "# Convert the 'Period' column to datetime using pandas so it registers the column as a date, not a string\n",
    "business_applications['Period'] = pd.to_datetime(business_applications['Period'], format='%b-%Y')"
   ]
  },
  {
   "cell_type": "code",
   "execution_count": 575,
   "id": "26d08ae7-22f5-4dc2-bd42-9f7fd42c3648",
   "metadata": {},
   "outputs": [
    {
     "data": {
      "text/html": [
       "<div>\n",
       "<style scoped>\n",
       "    .dataframe tbody tr th:only-of-type {\n",
       "        vertical-align: middle;\n",
       "    }\n",
       "\n",
       "    .dataframe tbody tr th {\n",
       "        vertical-align: top;\n",
       "    }\n",
       "\n",
       "    .dataframe thead th {\n",
       "        text-align: right;\n",
       "    }\n",
       "</style>\n",
       "<table border=\"1\" class=\"dataframe\">\n",
       "  <thead>\n",
       "    <tr style=\"text-align: right;\">\n",
       "      <th></th>\n",
       "      <th>Period</th>\n",
       "      <th>Value</th>\n",
       "    </tr>\n",
       "  </thead>\n",
       "  <tbody>\n",
       "    <tr>\n",
       "      <th>112</th>\n",
       "      <td>2025-04-01</td>\n",
       "      <td>24699</td>\n",
       "    </tr>\n",
       "    <tr>\n",
       "      <th>111</th>\n",
       "      <td>2025-03-01</td>\n",
       "      <td>24716</td>\n",
       "    </tr>\n",
       "    <tr>\n",
       "      <th>110</th>\n",
       "      <td>2025-02-01</td>\n",
       "      <td>23729</td>\n",
       "    </tr>\n",
       "    <tr>\n",
       "      <th>109</th>\n",
       "      <td>2025-01-01</td>\n",
       "      <td>21497</td>\n",
       "    </tr>\n",
       "    <tr>\n",
       "      <th>108</th>\n",
       "      <td>2024-12-01</td>\n",
       "      <td>25669</td>\n",
       "    </tr>\n",
       "    <tr>\n",
       "      <th>...</th>\n",
       "      <td>...</td>\n",
       "      <td>...</td>\n",
       "    </tr>\n",
       "    <tr>\n",
       "      <th>5</th>\n",
       "      <td>2016-05-01</td>\n",
       "      <td>18114</td>\n",
       "    </tr>\n",
       "    <tr>\n",
       "      <th>4</th>\n",
       "      <td>2016-04-01</td>\n",
       "      <td>17066</td>\n",
       "    </tr>\n",
       "    <tr>\n",
       "      <th>3</th>\n",
       "      <td>2016-03-01</td>\n",
       "      <td>16547</td>\n",
       "    </tr>\n",
       "    <tr>\n",
       "      <th>2</th>\n",
       "      <td>2016-02-01</td>\n",
       "      <td>16828</td>\n",
       "    </tr>\n",
       "    <tr>\n",
       "      <th>1</th>\n",
       "      <td>2016-01-01</td>\n",
       "      <td>17453</td>\n",
       "    </tr>\n",
       "  </tbody>\n",
       "</table>\n",
       "<p>112 rows × 2 columns</p>\n",
       "</div>"
      ],
      "text/plain": [
       "        Period  Value\n",
       "112 2025-04-01  24699\n",
       "111 2025-03-01  24716\n",
       "110 2025-02-01  23729\n",
       "109 2025-01-01  21497\n",
       "108 2024-12-01  25669\n",
       "..         ...    ...\n",
       "5   2016-05-01  18114\n",
       "4   2016-04-01  17066\n",
       "3   2016-03-01  16547\n",
       "2   2016-02-01  16828\n",
       "1   2016-01-01  17453\n",
       "\n",
       "[112 rows x 2 columns]"
      ]
     },
     "execution_count": 575,
     "metadata": {},
     "output_type": "execute_result"
    }
   ],
   "source": [
    "# sort values in descending order by period\n",
    "# i need to figure out why this is skipping rows. i don't want it to. Maybe it is because of the month-year format. \n",
    "business_applications.sort_values(by= \"Period\", ascending= False)\n",
    "\n"
   ]
  },
  {
   "cell_type": "code",
   "execution_count": 576,
   "id": "e75d6dc7-5b73-40e5-813a-3c7d62f7db5b",
   "metadata": {},
   "outputs": [],
   "source": [
    "#find YOY percentage change of business applications in NYC from April 2025 to April 2024\n",
    "# df.Period"
   ]
  },
  {
   "cell_type": "code",
   "execution_count": 577,
   "id": "d7c61c4f-92b8-40ac-ae35-e06231987577",
   "metadata": {},
   "outputs": [],
   "source": [
    "## find YOY percentage change of business applications in NYC from March 2025 to March 2024"
   ]
  },
  {
   "cell_type": "code",
   "execution_count": 578,
   "id": "7918e6c7-1d68-43ca-b009-77795263600e",
   "metadata": {},
   "outputs": [],
   "source": [
    "# business_applications=df.Period.iat[0]\n"
   ]
  },
  {
   "cell_type": "code",
   "execution_count": 579,
   "id": "3514eea7-a3f0-43be-a626-40ab44273d8f",
   "metadata": {},
   "outputs": [],
   "source": [
    "# business_applications"
   ]
  },
  {
   "cell_type": "code",
   "execution_count": 580,
   "id": "0da12ec5-54d6-469f-90dd-609ffb1f6936",
   "metadata": {},
   "outputs": [],
   "source": [
    "\n",
    "# df['Period'] = pd.to_datetime(df['Period'], format='%b-%Y')"
   ]
  },
  {
   "cell_type": "code",
   "execution_count": null,
   "id": "4b8fda08-5376-4baf-81e5-c4c22ffc23e8",
   "metadata": {},
   "outputs": [],
   "source": []
  },
  {
   "cell_type": "code",
   "execution_count": 581,
   "id": "c40969c5-0a50-40b3-bdfc-0ef26ebcc3f5",
   "metadata": {},
   "outputs": [],
   "source": [
    "# df = df.sort_values(by= \"Period\", ascending= False)\n",
    "# df.head(10)"
   ]
  },
  {
   "cell_type": "code",
   "execution_count": 582,
   "id": "e712ef35-e2b3-4d1d-b1dd-9506fd4deeb1",
   "metadata": {},
   "outputs": [],
   "source": [
    "# df['Percent_Change'] = df['Value'].pct_change() * 100"
   ]
  },
  {
   "cell_type": "code",
   "execution_count": null,
   "id": "5835e5c5-847d-4b9a-97ac-748683dd70f6",
   "metadata": {},
   "outputs": [],
   "source": []
  }
 ],
 "metadata": {
  "kernelspec": {
   "display_name": "Python [conda env:base] *",
   "language": "python",
   "name": "conda-base-py"
  },
  "language_info": {
   "codemirror_mode": {
    "name": "ipython",
    "version": 3
   },
   "file_extension": ".py",
   "mimetype": "text/x-python",
   "name": "python",
   "nbconvert_exporter": "python",
   "pygments_lexer": "ipython3",
   "version": "3.12.7"
  }
 },
 "nbformat": 4,
 "nbformat_minor": 5
}
