{
 "cells": [
  {
   "cell_type": "code",
   "execution_count": 117,
   "id": "cbfadc31-8b21-467a-852f-4a13de0cff58",
   "metadata": {},
   "outputs": [],
   "source": [
    "import pandas as pd"
   ]
  },
  {
   "cell_type": "code",
   "execution_count": 118,
   "id": "da7bcb11-5b06-43d1-81f5-e3516c47500f",
   "metadata": {},
   "outputs": [
    {
     "data": {
      "text/html": [
       "<div>\n",
       "<style scoped>\n",
       "    .dataframe tbody tr th:only-of-type {\n",
       "        vertical-align: middle;\n",
       "    }\n",
       "\n",
       "    .dataframe tbody tr th {\n",
       "        vertical-align: top;\n",
       "    }\n",
       "\n",
       "    .dataframe thead th {\n",
       "        text-align: right;\n",
       "    }\n",
       "</style>\n",
       "<table border=\"1\" class=\"dataframe\">\n",
       "  <thead>\n",
       "    <tr style=\"text-align: right;\">\n",
       "      <th></th>\n",
       "      <th>Period</th>\n",
       "      <th>Value</th>\n",
       "    </tr>\n",
       "  </thead>\n",
       "  <tbody>\n",
       "    <tr>\n",
       "      <th>0</th>\n",
       "      <td>Jan-2016</td>\n",
       "      <td>17,453</td>\n",
       "    </tr>\n",
       "    <tr>\n",
       "      <th>1</th>\n",
       "      <td>Feb-2016</td>\n",
       "      <td>16,828</td>\n",
       "    </tr>\n",
       "    <tr>\n",
       "      <th>2</th>\n",
       "      <td>Mar-2016</td>\n",
       "      <td>16,547</td>\n",
       "    </tr>\n",
       "    <tr>\n",
       "      <th>3</th>\n",
       "      <td>Apr-2016</td>\n",
       "      <td>17,066</td>\n",
       "    </tr>\n",
       "    <tr>\n",
       "      <th>4</th>\n",
       "      <td>May-2016</td>\n",
       "      <td>18,114</td>\n",
       "    </tr>\n",
       "    <tr>\n",
       "      <th>...</th>\n",
       "      <td>...</td>\n",
       "      <td>...</td>\n",
       "    </tr>\n",
       "    <tr>\n",
       "      <th>115</th>\n",
       "      <td>Aug-2025</td>\n",
       "      <td>NaN</td>\n",
       "    </tr>\n",
       "    <tr>\n",
       "      <th>116</th>\n",
       "      <td>Sep-2025</td>\n",
       "      <td>NaN</td>\n",
       "    </tr>\n",
       "    <tr>\n",
       "      <th>117</th>\n",
       "      <td>Oct-2025</td>\n",
       "      <td>NaN</td>\n",
       "    </tr>\n",
       "    <tr>\n",
       "      <th>118</th>\n",
       "      <td>Nov-2025</td>\n",
       "      <td>NaN</td>\n",
       "    </tr>\n",
       "    <tr>\n",
       "      <th>119</th>\n",
       "      <td>Dec-2025</td>\n",
       "      <td>NaN</td>\n",
       "    </tr>\n",
       "  </tbody>\n",
       "</table>\n",
       "<p>120 rows × 2 columns</p>\n",
       "</div>"
      ],
      "text/plain": [
       "       Period  Value\n",
       "0    Jan-2016 17,453\n",
       "1    Feb-2016 16,828\n",
       "2    Mar-2016 16,547\n",
       "3    Apr-2016 17,066\n",
       "4    May-2016 18,114\n",
       "..        ...    ...\n",
       "115  Aug-2025    NaN\n",
       "116  Sep-2025    NaN\n",
       "117  Oct-2025    NaN\n",
       "118  Nov-2025    NaN\n",
       "119  Dec-2025    NaN\n",
       "\n",
       "[120 rows x 2 columns]"
      ]
     },
     "execution_count": 118,
     "metadata": {},
     "output_type": "execute_result"
    }
   ],
   "source": [
    "df= pd.read_excel(\"data-raw/nyc.xlsx\")\n",
    "df"
   ]
  },
  {
   "cell_type": "code",
   "execution_count": 119,
   "id": "0846f8ad-426d-4f19-a4aa-cd4d4fb84e86",
   "metadata": {},
   "outputs": [
    {
     "name": "stdout",
     "output_type": "stream",
     "text": [
      "<class 'pandas.core.frame.DataFrame'>\n",
      "RangeIndex: 120 entries, 0 to 119\n",
      "Data columns (total 2 columns):\n",
      " #   Column  Non-Null Count  Dtype  \n",
      "---  ------  --------------  -----  \n",
      " 0   Period  120 non-null    object \n",
      " 1   Value   111 non-null    float64\n",
      "dtypes: float64(1), object(1)\n",
      "memory usage: 2.0+ KB\n"
     ]
    }
   ],
   "source": [
    "df.info()"
   ]
  },
  {
   "cell_type": "code",
   "execution_count": 120,
   "id": "e75d6dc7-5b73-40e5-813a-3c7d62f7db5b",
   "metadata": {},
   "outputs": [
    {
     "data": {
      "text/plain": [
       "0      Jan-2016\n",
       "1      Feb-2016\n",
       "2      Mar-2016\n",
       "3      Apr-2016\n",
       "4      May-2016\n",
       "         ...   \n",
       "115    Aug-2025\n",
       "116    Sep-2025\n",
       "117    Oct-2025\n",
       "118    Nov-2025\n",
       "119    Dec-2025\n",
       "Name: Period, Length: 120, dtype: object"
      ]
     },
     "execution_count": 120,
     "metadata": {},
     "output_type": "execute_result"
    }
   ],
   "source": [
    "#find percentage change of business applications in NYC from March 2025 to March 2024\n",
    "df.Period"
   ]
  },
  {
   "cell_type": "code",
   "execution_count": 121,
   "id": "0da12ec5-54d6-469f-90dd-609ffb1f6936",
   "metadata": {},
   "outputs": [],
   "source": [
    "\n",
    "# df['Period'] = pd.to_datetime(df['Period'], format='%b-%Y')"
   ]
  },
  {
   "cell_type": "code",
   "execution_count": 133,
   "id": "c40969c5-0a50-40b3-bdfc-0ef26ebcc3f5",
   "metadata": {},
   "outputs": [
    {
     "data": {
      "text/html": [
       "<div>\n",
       "<style scoped>\n",
       "    .dataframe tbody tr th:only-of-type {\n",
       "        vertical-align: middle;\n",
       "    }\n",
       "\n",
       "    .dataframe tbody tr th {\n",
       "        vertical-align: top;\n",
       "    }\n",
       "\n",
       "    .dataframe thead th {\n",
       "        text-align: right;\n",
       "    }\n",
       "</style>\n",
       "<table border=\"1\" class=\"dataframe\">\n",
       "  <thead>\n",
       "    <tr style=\"text-align: right;\">\n",
       "      <th></th>\n",
       "      <th>Period</th>\n",
       "      <th>Value</th>\n",
       "      <th>Percent_Change</th>\n",
       "    </tr>\n",
       "  </thead>\n",
       "  <tbody>\n",
       "    <tr>\n",
       "      <th>116</th>\n",
       "      <td>Sep-2025</td>\n",
       "      <td>NaN</td>\n",
       "      <td>NaN</td>\n",
       "    </tr>\n",
       "    <tr>\n",
       "      <th>104</th>\n",
       "      <td>Sep-2024</td>\n",
       "      <td>23,913</td>\n",
       "      <td>NaN</td>\n",
       "    </tr>\n",
       "    <tr>\n",
       "      <th>92</th>\n",
       "      <td>Sep-2023</td>\n",
       "      <td>26,152</td>\n",
       "      <td>9</td>\n",
       "    </tr>\n",
       "    <tr>\n",
       "      <th>80</th>\n",
       "      <td>Sep-2022</td>\n",
       "      <td>25,084</td>\n",
       "      <td>-4</td>\n",
       "    </tr>\n",
       "    <tr>\n",
       "      <th>68</th>\n",
       "      <td>Sep-2021</td>\n",
       "      <td>24,557</td>\n",
       "      <td>-2</td>\n",
       "    </tr>\n",
       "    <tr>\n",
       "      <th>...</th>\n",
       "      <td>...</td>\n",
       "      <td>...</td>\n",
       "      <td>...</td>\n",
       "    </tr>\n",
       "    <tr>\n",
       "      <th>51</th>\n",
       "      <td>Apr-2020</td>\n",
       "      <td>12,122</td>\n",
       "      <td>-58</td>\n",
       "    </tr>\n",
       "    <tr>\n",
       "      <th>39</th>\n",
       "      <td>Apr-2019</td>\n",
       "      <td>19,810</td>\n",
       "      <td>63</td>\n",
       "    </tr>\n",
       "    <tr>\n",
       "      <th>27</th>\n",
       "      <td>Apr-2018</td>\n",
       "      <td>18,650</td>\n",
       "      <td>-6</td>\n",
       "    </tr>\n",
       "    <tr>\n",
       "      <th>15</th>\n",
       "      <td>Apr-2017</td>\n",
       "      <td>17,732</td>\n",
       "      <td>-5</td>\n",
       "    </tr>\n",
       "    <tr>\n",
       "      <th>3</th>\n",
       "      <td>Apr-2016</td>\n",
       "      <td>17,066</td>\n",
       "      <td>-4</td>\n",
       "    </tr>\n",
       "  </tbody>\n",
       "</table>\n",
       "<p>120 rows × 3 columns</p>\n",
       "</div>"
      ],
      "text/plain": [
       "       Period  Value  Percent_Change\n",
       "116  Sep-2025    NaN             NaN\n",
       "104  Sep-2024 23,913             NaN\n",
       "92   Sep-2023 26,152               9\n",
       "80   Sep-2022 25,084              -4\n",
       "68   Sep-2021 24,557              -2\n",
       "..        ...    ...             ...\n",
       "51   Apr-2020 12,122             -58\n",
       "39   Apr-2019 19,810              63\n",
       "27   Apr-2018 18,650              -6\n",
       "15   Apr-2017 17,732              -5\n",
       "3    Apr-2016 17,066              -4\n",
       "\n",
       "[120 rows x 3 columns]"
      ]
     },
     "execution_count": 133,
     "metadata": {},
     "output_type": "execute_result"
    }
   ],
   "source": [
    "df = df.sort_values(by= \"Period\", ascending= False)\n",
    "df"
   ]
  },
  {
   "cell_type": "code",
   "execution_count": 131,
   "id": "e712ef35-e2b3-4d1d-b1dd-9506fd4deeb1",
   "metadata": {},
   "outputs": [
    {
     "name": "stderr",
     "output_type": "stream",
     "text": [
      "/var/folders/vv/tf9r_62j1k75w_b3m6khrjgc0000gn/T/ipykernel_21088/2758170187.py:1: FutureWarning: The default fill_method='pad' in Series.pct_change is deprecated and will be removed in a future version. Either fill in any non-leading NA values prior to calling pct_change or specify 'fill_method=None' to not fill NA values.\n",
      "  df['Percent_Change'] = df['Value'].pct_change() * 100\n"
     ]
    }
   ],
   "source": [
    "df['Percent_Change'] = df['Value'].pct_change() * 100"
   ]
  },
  {
   "cell_type": "code",
   "execution_count": null,
   "id": "5835e5c5-847d-4b9a-97ac-748683dd70f6",
   "metadata": {},
   "outputs": [],
   "source": []
  }
 ],
 "metadata": {
  "kernelspec": {
   "display_name": "Python [conda env:base] *",
   "language": "python",
   "name": "conda-base-py"
  },
  "language_info": {
   "codemirror_mode": {
    "name": "ipython",
    "version": 3
   },
   "file_extension": ".py",
   "mimetype": "text/x-python",
   "name": "python",
   "nbconvert_exporter": "python",
   "pygments_lexer": "ipython3",
   "version": "3.12.7"
  }
 },
 "nbformat": 4,
 "nbformat_minor": 5
}
